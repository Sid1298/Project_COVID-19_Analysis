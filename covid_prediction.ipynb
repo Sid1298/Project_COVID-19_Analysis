{
 "cells": [
  {
   "cell_type": "markdown",
   "metadata": {},
   "source": [
    "# Imports\n",
    "Imports for the project will be updated as we go along.<br>\n",
    "The rquired libraries and modules will be imported as needed."
   ]
  },
  {
   "cell_type": "code",
   "execution_count": 42,
   "metadata": {},
   "outputs": [],
   "source": [
    "import datetime\n",
    "import numpy as np\n",
    "import pandas as pd\n",
    "from sklearn.svm import SVR\n",
    "import matplotlib.pyplot as plt\n",
    "from sklearn.preprocessing import PolynomialFeatures\n",
    "from sklearn.linear_model import LinearRegression, BayesianRidge\n",
    "from sklearn.metrics import mean_absolute_error, mean_squared_error\n",
    "from sklearn.model_selection import train_test_split, RandomizedSearchCV\n",
    "\n",
    "plt.style.use('seaborn-darkgrid')\n",
    "plt.rcParams.update({'font.size': 14})"
   ]
  },
  {
   "cell_type": "markdown",
   "metadata": {},
   "source": [
    "# Data\n",
    "I have used the data from John Hopkins University which they have provided on GitHub [https://github.com/CSSEGISandData/COVID-19.git]\n",
    "This data gets updated on constant, frequent intervals (mostly on day-to-day basis).\n",
    "To access this data, instead of downloading the entire datasets, we can simply link to the files that are available on github and access the data directly without the need for any downloads or local dataset files."
   ]
  },
  {
   "cell_type": "markdown",
   "metadata": {},
   "source": [
    "However, we will need to manually change the dates in the data imports.<br>\n",
    "Just to be safe and avoid any anomalies in the data, We will use data that is two to three days old for reliability.<br>\n",
    "In the imports for the dataframes from John Hopkins University (ie. latest_data and us_medical_data) we will be using the last updates from two days before.<br>\n",
    "In the imports for Apple inc. data, (ie. the mobility and analytics from Apple inc.) we will be using data from three days before."
   ]
  },
  {
   "cell_type": "code",
   "execution_count": 2,
   "metadata": {},
   "outputs": [
    {
     "name": "stderr",
     "output_type": "stream",
     "text": [
      "C:\\Users\\Siddhant\\Anaconda\\lib\\site-packages\\IPython\\core\\interactiveshell.py:3071: DtypeWarning: Columns (3) have mixed types.Specify dtype option on import or set low_memory=False.\n",
      "  has_raised = await self.run_ast_nodes(code_ast.body, cell_name,\n"
     ]
    }
   ],
   "source": [
    "confirmedDf = pd.read_csv('https://raw.githubusercontent.com/CSSEGISandData/COVID-19/master/csse_covid_19_data/csse_covid_19_time_series/time_series_covid19_confirmed_global.csv')\n",
    "deathsDf = pd.read_csv('https://raw.githubusercontent.com/CSSEGISandData/COVID-19/master/csse_covid_19_data/csse_covid_19_time_series/time_series_covid19_deaths_global.csv')\n",
    "recoveriesDf = pd.read_csv('https://raw.githubusercontent.com/CSSEGISandData/COVID-19/master/csse_covid_19_data/csse_covid_19_time_series/time_series_covid19_recovered_global.csv')\n",
    "latestData = pd.read_csv('https://raw.githubusercontent.com/CSSEGISandData/COVID-19/master/csse_covid_19_data/csse_covid_19_daily_reports/09-27-2020.csv')\n",
    "usMedicalData = pd.read_csv('https://raw.githubusercontent.com/CSSEGISandData/COVID-19/master/csse_covid_19_data/csse_covid_19_daily_reports_us/09-27-2020.csv')\n",
    "appleMobility = pd.read_csv('https://covid19-static.cdn-apple.com/covid19-mobility-data/2017HotfixDev19/v3/en-us/applemobilitytrends-2020-09-26.csv')"
   ]
  },
  {
   "cell_type": "code",
   "execution_count": 3,
   "metadata": {},
   "outputs": [
    {
     "data": {
      "text/html": [
       "<div>\n",
       "<style scoped>\n",
       "    .dataframe tbody tr th:only-of-type {\n",
       "        vertical-align: middle;\n",
       "    }\n",
       "\n",
       "    .dataframe tbody tr th {\n",
       "        vertical-align: top;\n",
       "    }\n",
       "\n",
       "    .dataframe thead th {\n",
       "        text-align: right;\n",
       "    }\n",
       "</style>\n",
       "<table border=\"1\" class=\"dataframe\">\n",
       "  <thead>\n",
       "    <tr style=\"text-align: right;\">\n",
       "      <th></th>\n",
       "      <th>Province/State</th>\n",
       "      <th>Country/Region</th>\n",
       "      <th>Lat</th>\n",
       "      <th>Long</th>\n",
       "      <th>1/22/20</th>\n",
       "      <th>1/23/20</th>\n",
       "      <th>1/24/20</th>\n",
       "      <th>1/25/20</th>\n",
       "      <th>1/26/20</th>\n",
       "      <th>1/27/20</th>\n",
       "      <th>...</th>\n",
       "      <th>9/20/20</th>\n",
       "      <th>9/21/20</th>\n",
       "      <th>9/22/20</th>\n",
       "      <th>9/23/20</th>\n",
       "      <th>9/24/20</th>\n",
       "      <th>9/25/20</th>\n",
       "      <th>9/26/20</th>\n",
       "      <th>9/27/20</th>\n",
       "      <th>9/28/20</th>\n",
       "      <th>9/29/20</th>\n",
       "    </tr>\n",
       "  </thead>\n",
       "  <tbody>\n",
       "    <tr>\n",
       "      <th>0</th>\n",
       "      <td>NaN</td>\n",
       "      <td>Afghanistan</td>\n",
       "      <td>33.93911</td>\n",
       "      <td>67.709953</td>\n",
       "      <td>0</td>\n",
       "      <td>0</td>\n",
       "      <td>0</td>\n",
       "      <td>0</td>\n",
       "      <td>0</td>\n",
       "      <td>0</td>\n",
       "      <td>...</td>\n",
       "      <td>39044</td>\n",
       "      <td>39074</td>\n",
       "      <td>39096</td>\n",
       "      <td>39145</td>\n",
       "      <td>39170</td>\n",
       "      <td>39186</td>\n",
       "      <td>39192</td>\n",
       "      <td>39227</td>\n",
       "      <td>39233</td>\n",
       "      <td>39254</td>\n",
       "    </tr>\n",
       "    <tr>\n",
       "      <th>1</th>\n",
       "      <td>NaN</td>\n",
       "      <td>Albania</td>\n",
       "      <td>41.15330</td>\n",
       "      <td>20.168300</td>\n",
       "      <td>0</td>\n",
       "      <td>0</td>\n",
       "      <td>0</td>\n",
       "      <td>0</td>\n",
       "      <td>0</td>\n",
       "      <td>0</td>\n",
       "      <td>...</td>\n",
       "      <td>12385</td>\n",
       "      <td>12535</td>\n",
       "      <td>12666</td>\n",
       "      <td>12787</td>\n",
       "      <td>12921</td>\n",
       "      <td>13045</td>\n",
       "      <td>13153</td>\n",
       "      <td>13259</td>\n",
       "      <td>13391</td>\n",
       "      <td>13518</td>\n",
       "    </tr>\n",
       "    <tr>\n",
       "      <th>2</th>\n",
       "      <td>NaN</td>\n",
       "      <td>Algeria</td>\n",
       "      <td>28.03390</td>\n",
       "      <td>1.659600</td>\n",
       "      <td>0</td>\n",
       "      <td>0</td>\n",
       "      <td>0</td>\n",
       "      <td>0</td>\n",
       "      <td>0</td>\n",
       "      <td>0</td>\n",
       "      <td>...</td>\n",
       "      <td>49826</td>\n",
       "      <td>50023</td>\n",
       "      <td>50214</td>\n",
       "      <td>50400</td>\n",
       "      <td>50579</td>\n",
       "      <td>50754</td>\n",
       "      <td>50914</td>\n",
       "      <td>51067</td>\n",
       "      <td>51213</td>\n",
       "      <td>51368</td>\n",
       "    </tr>\n",
       "    <tr>\n",
       "      <th>3</th>\n",
       "      <td>NaN</td>\n",
       "      <td>Andorra</td>\n",
       "      <td>42.50630</td>\n",
       "      <td>1.521800</td>\n",
       "      <td>0</td>\n",
       "      <td>0</td>\n",
       "      <td>0</td>\n",
       "      <td>0</td>\n",
       "      <td>0</td>\n",
       "      <td>0</td>\n",
       "      <td>...</td>\n",
       "      <td>1564</td>\n",
       "      <td>1681</td>\n",
       "      <td>1681</td>\n",
       "      <td>1753</td>\n",
       "      <td>1753</td>\n",
       "      <td>1836</td>\n",
       "      <td>1836</td>\n",
       "      <td>1836</td>\n",
       "      <td>1966</td>\n",
       "      <td>1966</td>\n",
       "    </tr>\n",
       "    <tr>\n",
       "      <th>4</th>\n",
       "      <td>NaN</td>\n",
       "      <td>Angola</td>\n",
       "      <td>-11.20270</td>\n",
       "      <td>17.873900</td>\n",
       "      <td>0</td>\n",
       "      <td>0</td>\n",
       "      <td>0</td>\n",
       "      <td>0</td>\n",
       "      <td>0</td>\n",
       "      <td>0</td>\n",
       "      <td>...</td>\n",
       "      <td>3991</td>\n",
       "      <td>4117</td>\n",
       "      <td>4236</td>\n",
       "      <td>4363</td>\n",
       "      <td>4475</td>\n",
       "      <td>4590</td>\n",
       "      <td>4672</td>\n",
       "      <td>4718</td>\n",
       "      <td>4797</td>\n",
       "      <td>4905</td>\n",
       "    </tr>\n",
       "  </tbody>\n",
       "</table>\n",
       "<p>5 rows × 256 columns</p>\n",
       "</div>"
      ],
      "text/plain": [
       "  Province/State Country/Region       Lat       Long  1/22/20  1/23/20  \\\n",
       "0            NaN    Afghanistan  33.93911  67.709953        0        0   \n",
       "1            NaN        Albania  41.15330  20.168300        0        0   \n",
       "2            NaN        Algeria  28.03390   1.659600        0        0   \n",
       "3            NaN        Andorra  42.50630   1.521800        0        0   \n",
       "4            NaN         Angola -11.20270  17.873900        0        0   \n",
       "\n",
       "   1/24/20  1/25/20  1/26/20  1/27/20  ...  9/20/20  9/21/20  9/22/20  \\\n",
       "0        0        0        0        0  ...    39044    39074    39096   \n",
       "1        0        0        0        0  ...    12385    12535    12666   \n",
       "2        0        0        0        0  ...    49826    50023    50214   \n",
       "3        0        0        0        0  ...     1564     1681     1681   \n",
       "4        0        0        0        0  ...     3991     4117     4236   \n",
       "\n",
       "   9/23/20  9/24/20  9/25/20  9/26/20  9/27/20  9/28/20  9/29/20  \n",
       "0    39145    39170    39186    39192    39227    39233    39254  \n",
       "1    12787    12921    13045    13153    13259    13391    13518  \n",
       "2    50400    50579    50754    50914    51067    51213    51368  \n",
       "3     1753     1753     1836     1836     1836     1966     1966  \n",
       "4     4363     4475     4590     4672     4718     4797     4905  \n",
       "\n",
       "[5 rows x 256 columns]"
      ]
     },
     "execution_count": 3,
     "metadata": {},
     "output_type": "execute_result"
    }
   ],
   "source": [
    "confirmedDf.head()"
   ]
  },
  {
   "cell_type": "code",
   "execution_count": 4,
   "metadata": {},
   "outputs": [
    {
     "data": {
      "text/html": [
       "<div>\n",
       "<style scoped>\n",
       "    .dataframe tbody tr th:only-of-type {\n",
       "        vertical-align: middle;\n",
       "    }\n",
       "\n",
       "    .dataframe tbody tr th {\n",
       "        vertical-align: top;\n",
       "    }\n",
       "\n",
       "    .dataframe thead th {\n",
       "        text-align: right;\n",
       "    }\n",
       "</style>\n",
       "<table border=\"1\" class=\"dataframe\">\n",
       "  <thead>\n",
       "    <tr style=\"text-align: right;\">\n",
       "      <th></th>\n",
       "      <th>Province/State</th>\n",
       "      <th>Country/Region</th>\n",
       "      <th>Lat</th>\n",
       "      <th>Long</th>\n",
       "      <th>1/22/20</th>\n",
       "      <th>1/23/20</th>\n",
       "      <th>1/24/20</th>\n",
       "      <th>1/25/20</th>\n",
       "      <th>1/26/20</th>\n",
       "      <th>1/27/20</th>\n",
       "      <th>...</th>\n",
       "      <th>9/20/20</th>\n",
       "      <th>9/21/20</th>\n",
       "      <th>9/22/20</th>\n",
       "      <th>9/23/20</th>\n",
       "      <th>9/24/20</th>\n",
       "      <th>9/25/20</th>\n",
       "      <th>9/26/20</th>\n",
       "      <th>9/27/20</th>\n",
       "      <th>9/28/20</th>\n",
       "      <th>9/29/20</th>\n",
       "    </tr>\n",
       "  </thead>\n",
       "  <tbody>\n",
       "    <tr>\n",
       "      <th>0</th>\n",
       "      <td>NaN</td>\n",
       "      <td>Afghanistan</td>\n",
       "      <td>33.93911</td>\n",
       "      <td>67.709953</td>\n",
       "      <td>0</td>\n",
       "      <td>0</td>\n",
       "      <td>0</td>\n",
       "      <td>0</td>\n",
       "      <td>0</td>\n",
       "      <td>0</td>\n",
       "      <td>...</td>\n",
       "      <td>1441</td>\n",
       "      <td>1444</td>\n",
       "      <td>1445</td>\n",
       "      <td>1446</td>\n",
       "      <td>1451</td>\n",
       "      <td>1451</td>\n",
       "      <td>1453</td>\n",
       "      <td>1453</td>\n",
       "      <td>1455</td>\n",
       "      <td>1458</td>\n",
       "    </tr>\n",
       "    <tr>\n",
       "      <th>1</th>\n",
       "      <td>NaN</td>\n",
       "      <td>Albania</td>\n",
       "      <td>41.15330</td>\n",
       "      <td>20.168300</td>\n",
       "      <td>0</td>\n",
       "      <td>0</td>\n",
       "      <td>0</td>\n",
       "      <td>0</td>\n",
       "      <td>0</td>\n",
       "      <td>0</td>\n",
       "      <td>...</td>\n",
       "      <td>362</td>\n",
       "      <td>364</td>\n",
       "      <td>367</td>\n",
       "      <td>370</td>\n",
       "      <td>370</td>\n",
       "      <td>373</td>\n",
       "      <td>375</td>\n",
       "      <td>377</td>\n",
       "      <td>380</td>\n",
       "      <td>384</td>\n",
       "    </tr>\n",
       "    <tr>\n",
       "      <th>2</th>\n",
       "      <td>NaN</td>\n",
       "      <td>Algeria</td>\n",
       "      <td>28.03390</td>\n",
       "      <td>1.659600</td>\n",
       "      <td>0</td>\n",
       "      <td>0</td>\n",
       "      <td>0</td>\n",
       "      <td>0</td>\n",
       "      <td>0</td>\n",
       "      <td>0</td>\n",
       "      <td>...</td>\n",
       "      <td>1672</td>\n",
       "      <td>1679</td>\n",
       "      <td>1689</td>\n",
       "      <td>1698</td>\n",
       "      <td>1703</td>\n",
       "      <td>1707</td>\n",
       "      <td>1711</td>\n",
       "      <td>1714</td>\n",
       "      <td>1719</td>\n",
       "      <td>1726</td>\n",
       "    </tr>\n",
       "    <tr>\n",
       "      <th>3</th>\n",
       "      <td>NaN</td>\n",
       "      <td>Andorra</td>\n",
       "      <td>42.50630</td>\n",
       "      <td>1.521800</td>\n",
       "      <td>0</td>\n",
       "      <td>0</td>\n",
       "      <td>0</td>\n",
       "      <td>0</td>\n",
       "      <td>0</td>\n",
       "      <td>0</td>\n",
       "      <td>...</td>\n",
       "      <td>53</td>\n",
       "      <td>53</td>\n",
       "      <td>53</td>\n",
       "      <td>53</td>\n",
       "      <td>53</td>\n",
       "      <td>53</td>\n",
       "      <td>53</td>\n",
       "      <td>53</td>\n",
       "      <td>53</td>\n",
       "      <td>53</td>\n",
       "    </tr>\n",
       "    <tr>\n",
       "      <th>4</th>\n",
       "      <td>NaN</td>\n",
       "      <td>Angola</td>\n",
       "      <td>-11.20270</td>\n",
       "      <td>17.873900</td>\n",
       "      <td>0</td>\n",
       "      <td>0</td>\n",
       "      <td>0</td>\n",
       "      <td>0</td>\n",
       "      <td>0</td>\n",
       "      <td>0</td>\n",
       "      <td>...</td>\n",
       "      <td>152</td>\n",
       "      <td>154</td>\n",
       "      <td>155</td>\n",
       "      <td>159</td>\n",
       "      <td>162</td>\n",
       "      <td>167</td>\n",
       "      <td>171</td>\n",
       "      <td>174</td>\n",
       "      <td>176</td>\n",
       "      <td>179</td>\n",
       "    </tr>\n",
       "  </tbody>\n",
       "</table>\n",
       "<p>5 rows × 256 columns</p>\n",
       "</div>"
      ],
      "text/plain": [
       "  Province/State Country/Region       Lat       Long  1/22/20  1/23/20  \\\n",
       "0            NaN    Afghanistan  33.93911  67.709953        0        0   \n",
       "1            NaN        Albania  41.15330  20.168300        0        0   \n",
       "2            NaN        Algeria  28.03390   1.659600        0        0   \n",
       "3            NaN        Andorra  42.50630   1.521800        0        0   \n",
       "4            NaN         Angola -11.20270  17.873900        0        0   \n",
       "\n",
       "   1/24/20  1/25/20  1/26/20  1/27/20  ...  9/20/20  9/21/20  9/22/20  \\\n",
       "0        0        0        0        0  ...     1441     1444     1445   \n",
       "1        0        0        0        0  ...      362      364      367   \n",
       "2        0        0        0        0  ...     1672     1679     1689   \n",
       "3        0        0        0        0  ...       53       53       53   \n",
       "4        0        0        0        0  ...      152      154      155   \n",
       "\n",
       "   9/23/20  9/24/20  9/25/20  9/26/20  9/27/20  9/28/20  9/29/20  \n",
       "0     1446     1451     1451     1453     1453     1455     1458  \n",
       "1      370      370      373      375      377      380      384  \n",
       "2     1698     1703     1707     1711     1714     1719     1726  \n",
       "3       53       53       53       53       53       53       53  \n",
       "4      159      162      167      171      174      176      179  \n",
       "\n",
       "[5 rows x 256 columns]"
      ]
     },
     "execution_count": 4,
     "metadata": {},
     "output_type": "execute_result"
    }
   ],
   "source": [
    "deathsDf.head()"
   ]
  },
  {
   "cell_type": "code",
   "execution_count": 5,
   "metadata": {},
   "outputs": [
    {
     "data": {
      "text/html": [
       "<div>\n",
       "<style scoped>\n",
       "    .dataframe tbody tr th:only-of-type {\n",
       "        vertical-align: middle;\n",
       "    }\n",
       "\n",
       "    .dataframe tbody tr th {\n",
       "        vertical-align: top;\n",
       "    }\n",
       "\n",
       "    .dataframe thead th {\n",
       "        text-align: right;\n",
       "    }\n",
       "</style>\n",
       "<table border=\"1\" class=\"dataframe\">\n",
       "  <thead>\n",
       "    <tr style=\"text-align: right;\">\n",
       "      <th></th>\n",
       "      <th>Province/State</th>\n",
       "      <th>Country/Region</th>\n",
       "      <th>Lat</th>\n",
       "      <th>Long</th>\n",
       "      <th>1/22/20</th>\n",
       "      <th>1/23/20</th>\n",
       "      <th>1/24/20</th>\n",
       "      <th>1/25/20</th>\n",
       "      <th>1/26/20</th>\n",
       "      <th>1/27/20</th>\n",
       "      <th>...</th>\n",
       "      <th>9/20/20</th>\n",
       "      <th>9/21/20</th>\n",
       "      <th>9/22/20</th>\n",
       "      <th>9/23/20</th>\n",
       "      <th>9/24/20</th>\n",
       "      <th>9/25/20</th>\n",
       "      <th>9/26/20</th>\n",
       "      <th>9/27/20</th>\n",
       "      <th>9/28/20</th>\n",
       "      <th>9/29/20</th>\n",
       "    </tr>\n",
       "  </thead>\n",
       "  <tbody>\n",
       "    <tr>\n",
       "      <th>0</th>\n",
       "      <td>NaN</td>\n",
       "      <td>Afghanistan</td>\n",
       "      <td>33.93911</td>\n",
       "      <td>67.709953</td>\n",
       "      <td>0</td>\n",
       "      <td>0</td>\n",
       "      <td>0</td>\n",
       "      <td>0</td>\n",
       "      <td>0</td>\n",
       "      <td>0</td>\n",
       "      <td>...</td>\n",
       "      <td>32576</td>\n",
       "      <td>32576</td>\n",
       "      <td>32576</td>\n",
       "      <td>32610</td>\n",
       "      <td>32619</td>\n",
       "      <td>32619</td>\n",
       "      <td>32635</td>\n",
       "      <td>32642</td>\n",
       "      <td>32642</td>\n",
       "      <td>32746</td>\n",
       "    </tr>\n",
       "    <tr>\n",
       "      <th>1</th>\n",
       "      <td>NaN</td>\n",
       "      <td>Albania</td>\n",
       "      <td>41.15330</td>\n",
       "      <td>20.168300</td>\n",
       "      <td>0</td>\n",
       "      <td>0</td>\n",
       "      <td>0</td>\n",
       "      <td>0</td>\n",
       "      <td>0</td>\n",
       "      <td>0</td>\n",
       "      <td>...</td>\n",
       "      <td>6940</td>\n",
       "      <td>6995</td>\n",
       "      <td>7042</td>\n",
       "      <td>7139</td>\n",
       "      <td>7239</td>\n",
       "      <td>7309</td>\n",
       "      <td>7397</td>\n",
       "      <td>7397</td>\n",
       "      <td>7629</td>\n",
       "      <td>7732</td>\n",
       "    </tr>\n",
       "    <tr>\n",
       "      <th>2</th>\n",
       "      <td>NaN</td>\n",
       "      <td>Algeria</td>\n",
       "      <td>28.03390</td>\n",
       "      <td>1.659600</td>\n",
       "      <td>0</td>\n",
       "      <td>0</td>\n",
       "      <td>0</td>\n",
       "      <td>0</td>\n",
       "      <td>0</td>\n",
       "      <td>0</td>\n",
       "      <td>...</td>\n",
       "      <td>35047</td>\n",
       "      <td>35180</td>\n",
       "      <td>35307</td>\n",
       "      <td>35428</td>\n",
       "      <td>35544</td>\n",
       "      <td>35654</td>\n",
       "      <td>35756</td>\n",
       "      <td>35860</td>\n",
       "      <td>35962</td>\n",
       "      <td>36063</td>\n",
       "    </tr>\n",
       "    <tr>\n",
       "      <th>3</th>\n",
       "      <td>NaN</td>\n",
       "      <td>Andorra</td>\n",
       "      <td>42.50630</td>\n",
       "      <td>1.521800</td>\n",
       "      <td>0</td>\n",
       "      <td>0</td>\n",
       "      <td>0</td>\n",
       "      <td>0</td>\n",
       "      <td>0</td>\n",
       "      <td>0</td>\n",
       "      <td>...</td>\n",
       "      <td>1164</td>\n",
       "      <td>1199</td>\n",
       "      <td>1199</td>\n",
       "      <td>1203</td>\n",
       "      <td>1203</td>\n",
       "      <td>1263</td>\n",
       "      <td>1263</td>\n",
       "      <td>1263</td>\n",
       "      <td>1265</td>\n",
       "      <td>1265</td>\n",
       "    </tr>\n",
       "    <tr>\n",
       "      <th>4</th>\n",
       "      <td>NaN</td>\n",
       "      <td>Angola</td>\n",
       "      <td>-11.20270</td>\n",
       "      <td>17.873900</td>\n",
       "      <td>0</td>\n",
       "      <td>0</td>\n",
       "      <td>0</td>\n",
       "      <td>0</td>\n",
       "      <td>0</td>\n",
       "      <td>0</td>\n",
       "      <td>...</td>\n",
       "      <td>1445</td>\n",
       "      <td>1449</td>\n",
       "      <td>1462</td>\n",
       "      <td>1473</td>\n",
       "      <td>1503</td>\n",
       "      <td>1554</td>\n",
       "      <td>1639</td>\n",
       "      <td>1707</td>\n",
       "      <td>1813</td>\n",
       "      <td>1833</td>\n",
       "    </tr>\n",
       "  </tbody>\n",
       "</table>\n",
       "<p>5 rows × 256 columns</p>\n",
       "</div>"
      ],
      "text/plain": [
       "  Province/State Country/Region       Lat       Long  1/22/20  1/23/20  \\\n",
       "0            NaN    Afghanistan  33.93911  67.709953        0        0   \n",
       "1            NaN        Albania  41.15330  20.168300        0        0   \n",
       "2            NaN        Algeria  28.03390   1.659600        0        0   \n",
       "3            NaN        Andorra  42.50630   1.521800        0        0   \n",
       "4            NaN         Angola -11.20270  17.873900        0        0   \n",
       "\n",
       "   1/24/20  1/25/20  1/26/20  1/27/20  ...  9/20/20  9/21/20  9/22/20  \\\n",
       "0        0        0        0        0  ...    32576    32576    32576   \n",
       "1        0        0        0        0  ...     6940     6995     7042   \n",
       "2        0        0        0        0  ...    35047    35180    35307   \n",
       "3        0        0        0        0  ...     1164     1199     1199   \n",
       "4        0        0        0        0  ...     1445     1449     1462   \n",
       "\n",
       "   9/23/20  9/24/20  9/25/20  9/26/20  9/27/20  9/28/20  9/29/20  \n",
       "0    32610    32619    32619    32635    32642    32642    32746  \n",
       "1     7139     7239     7309     7397     7397     7629     7732  \n",
       "2    35428    35544    35654    35756    35860    35962    36063  \n",
       "3     1203     1203     1263     1263     1263     1265     1265  \n",
       "4     1473     1503     1554     1639     1707     1813     1833  \n",
       "\n",
       "[5 rows x 256 columns]"
      ]
     },
     "execution_count": 5,
     "metadata": {},
     "output_type": "execute_result"
    }
   ],
   "source": [
    "recoveriesDf.head()"
   ]
  },
  {
   "cell_type": "code",
   "execution_count": 6,
   "metadata": {},
   "outputs": [
    {
     "data": {
      "text/html": [
       "<div>\n",
       "<style scoped>\n",
       "    .dataframe tbody tr th:only-of-type {\n",
       "        vertical-align: middle;\n",
       "    }\n",
       "\n",
       "    .dataframe tbody tr th {\n",
       "        vertical-align: top;\n",
       "    }\n",
       "\n",
       "    .dataframe thead th {\n",
       "        text-align: right;\n",
       "    }\n",
       "</style>\n",
       "<table border=\"1\" class=\"dataframe\">\n",
       "  <thead>\n",
       "    <tr style=\"text-align: right;\">\n",
       "      <th></th>\n",
       "      <th>FIPS</th>\n",
       "      <th>Admin2</th>\n",
       "      <th>Province_State</th>\n",
       "      <th>Country_Region</th>\n",
       "      <th>Last_Update</th>\n",
       "      <th>Lat</th>\n",
       "      <th>Long_</th>\n",
       "      <th>Confirmed</th>\n",
       "      <th>Deaths</th>\n",
       "      <th>Recovered</th>\n",
       "      <th>Active</th>\n",
       "      <th>Combined_Key</th>\n",
       "      <th>Incidence_Rate</th>\n",
       "      <th>Case-Fatality_Ratio</th>\n",
       "    </tr>\n",
       "  </thead>\n",
       "  <tbody>\n",
       "    <tr>\n",
       "      <th>0</th>\n",
       "      <td>NaN</td>\n",
       "      <td>NaN</td>\n",
       "      <td>NaN</td>\n",
       "      <td>Afghanistan</td>\n",
       "      <td>9/28/20 4:23</td>\n",
       "      <td>33.93911</td>\n",
       "      <td>67.709953</td>\n",
       "      <td>39227</td>\n",
       "      <td>1453</td>\n",
       "      <td>32642</td>\n",
       "      <td>5132.0</td>\n",
       "      <td>Afghanistan</td>\n",
       "      <td>100.767202</td>\n",
       "      <td>3.704081</td>\n",
       "    </tr>\n",
       "    <tr>\n",
       "      <th>1</th>\n",
       "      <td>NaN</td>\n",
       "      <td>NaN</td>\n",
       "      <td>NaN</td>\n",
       "      <td>Albania</td>\n",
       "      <td>9/28/20 4:23</td>\n",
       "      <td>41.15330</td>\n",
       "      <td>20.168300</td>\n",
       "      <td>13259</td>\n",
       "      <td>377</td>\n",
       "      <td>7397</td>\n",
       "      <td>5485.0</td>\n",
       "      <td>Albania</td>\n",
       "      <td>460.733894</td>\n",
       "      <td>2.843352</td>\n",
       "    </tr>\n",
       "    <tr>\n",
       "      <th>2</th>\n",
       "      <td>NaN</td>\n",
       "      <td>NaN</td>\n",
       "      <td>NaN</td>\n",
       "      <td>Algeria</td>\n",
       "      <td>9/28/20 4:23</td>\n",
       "      <td>28.03390</td>\n",
       "      <td>1.659600</td>\n",
       "      <td>51067</td>\n",
       "      <td>1714</td>\n",
       "      <td>35860</td>\n",
       "      <td>13493.0</td>\n",
       "      <td>Algeria</td>\n",
       "      <td>116.455611</td>\n",
       "      <td>3.356375</td>\n",
       "    </tr>\n",
       "    <tr>\n",
       "      <th>3</th>\n",
       "      <td>NaN</td>\n",
       "      <td>NaN</td>\n",
       "      <td>NaN</td>\n",
       "      <td>Andorra</td>\n",
       "      <td>9/28/20 4:23</td>\n",
       "      <td>42.50630</td>\n",
       "      <td>1.521800</td>\n",
       "      <td>1836</td>\n",
       "      <td>53</td>\n",
       "      <td>1263</td>\n",
       "      <td>520.0</td>\n",
       "      <td>Andorra</td>\n",
       "      <td>2376.237624</td>\n",
       "      <td>2.886710</td>\n",
       "    </tr>\n",
       "    <tr>\n",
       "      <th>4</th>\n",
       "      <td>NaN</td>\n",
       "      <td>NaN</td>\n",
       "      <td>NaN</td>\n",
       "      <td>Angola</td>\n",
       "      <td>9/28/20 4:23</td>\n",
       "      <td>-11.20270</td>\n",
       "      <td>17.873900</td>\n",
       "      <td>4718</td>\n",
       "      <td>174</td>\n",
       "      <td>1707</td>\n",
       "      <td>2837.0</td>\n",
       "      <td>Angola</td>\n",
       "      <td>14.355144</td>\n",
       "      <td>3.688003</td>\n",
       "    </tr>\n",
       "  </tbody>\n",
       "</table>\n",
       "</div>"
      ],
      "text/plain": [
       "   FIPS Admin2 Province_State Country_Region   Last_Update       Lat  \\\n",
       "0   NaN    NaN            NaN    Afghanistan  9/28/20 4:23  33.93911   \n",
       "1   NaN    NaN            NaN        Albania  9/28/20 4:23  41.15330   \n",
       "2   NaN    NaN            NaN        Algeria  9/28/20 4:23  28.03390   \n",
       "3   NaN    NaN            NaN        Andorra  9/28/20 4:23  42.50630   \n",
       "4   NaN    NaN            NaN         Angola  9/28/20 4:23 -11.20270   \n",
       "\n",
       "       Long_  Confirmed  Deaths  Recovered   Active Combined_Key  \\\n",
       "0  67.709953      39227    1453      32642   5132.0  Afghanistan   \n",
       "1  20.168300      13259     377       7397   5485.0      Albania   \n",
       "2   1.659600      51067    1714      35860  13493.0      Algeria   \n",
       "3   1.521800       1836      53       1263    520.0      Andorra   \n",
       "4  17.873900       4718     174       1707   2837.0       Angola   \n",
       "\n",
       "   Incidence_Rate  Case-Fatality_Ratio  \n",
       "0      100.767202             3.704081  \n",
       "1      460.733894             2.843352  \n",
       "2      116.455611             3.356375  \n",
       "3     2376.237624             2.886710  \n",
       "4       14.355144             3.688003  "
      ]
     },
     "execution_count": 6,
     "metadata": {},
     "output_type": "execute_result"
    }
   ],
   "source": [
    "latestData.head()\n",
    "# last date and time of updation along with more information such as number of cases, deaths, recoveries, active cases. etc."
   ]
  },
  {
   "cell_type": "code",
   "execution_count": 7,
   "metadata": {},
   "outputs": [
    {
     "data": {
      "text/html": [
       "<div>\n",
       "<style scoped>\n",
       "    .dataframe tbody tr th:only-of-type {\n",
       "        vertical-align: middle;\n",
       "    }\n",
       "\n",
       "    .dataframe tbody tr th {\n",
       "        vertical-align: top;\n",
       "    }\n",
       "\n",
       "    .dataframe thead th {\n",
       "        text-align: right;\n",
       "    }\n",
       "</style>\n",
       "<table border=\"1\" class=\"dataframe\">\n",
       "  <thead>\n",
       "    <tr style=\"text-align: right;\">\n",
       "      <th></th>\n",
       "      <th>Province_State</th>\n",
       "      <th>Country_Region</th>\n",
       "      <th>Last_Update</th>\n",
       "      <th>Lat</th>\n",
       "      <th>Long_</th>\n",
       "      <th>Confirmed</th>\n",
       "      <th>Deaths</th>\n",
       "      <th>Recovered</th>\n",
       "      <th>Active</th>\n",
       "      <th>FIPS</th>\n",
       "      <th>Incident_Rate</th>\n",
       "      <th>People_Tested</th>\n",
       "      <th>People_Hospitalized</th>\n",
       "      <th>Mortality_Rate</th>\n",
       "      <th>UID</th>\n",
       "      <th>ISO3</th>\n",
       "      <th>Testing_Rate</th>\n",
       "      <th>Hospitalization_Rate</th>\n",
       "    </tr>\n",
       "  </thead>\n",
       "  <tbody>\n",
       "    <tr>\n",
       "      <th>0</th>\n",
       "      <td>Alabama</td>\n",
       "      <td>US</td>\n",
       "      <td>2020-09-28 04:30:36</td>\n",
       "      <td>32.3182</td>\n",
       "      <td>-86.9023</td>\n",
       "      <td>152321</td>\n",
       "      <td>2501</td>\n",
       "      <td>64583.0</td>\n",
       "      <td>85237.0</td>\n",
       "      <td>1.0</td>\n",
       "      <td>3106.572565</td>\n",
       "      <td>1111239.0</td>\n",
       "      <td>NaN</td>\n",
       "      <td>1.641927</td>\n",
       "      <td>84000001</td>\n",
       "      <td>USA</td>\n",
       "      <td>22663.615589</td>\n",
       "      <td>NaN</td>\n",
       "    </tr>\n",
       "    <tr>\n",
       "      <th>1</th>\n",
       "      <td>Alaska</td>\n",
       "      <td>US</td>\n",
       "      <td>2020-09-28 04:30:36</td>\n",
       "      <td>61.3707</td>\n",
       "      <td>-152.4044</td>\n",
       "      <td>7481</td>\n",
       "      <td>56</td>\n",
       "      <td>3502.0</td>\n",
       "      <td>3923.0</td>\n",
       "      <td>2.0</td>\n",
       "      <td>1022.630187</td>\n",
       "      <td>442869.0</td>\n",
       "      <td>NaN</td>\n",
       "      <td>0.748563</td>\n",
       "      <td>84000002</td>\n",
       "      <td>USA</td>\n",
       "      <td>60538.859537</td>\n",
       "      <td>NaN</td>\n",
       "    </tr>\n",
       "    <tr>\n",
       "      <th>2</th>\n",
       "      <td>American Samoa</td>\n",
       "      <td>US</td>\n",
       "      <td>2020-09-28 04:30:36</td>\n",
       "      <td>-14.2710</td>\n",
       "      <td>-170.1320</td>\n",
       "      <td>0</td>\n",
       "      <td>0</td>\n",
       "      <td>NaN</td>\n",
       "      <td>0.0</td>\n",
       "      <td>60.0</td>\n",
       "      <td>0.000000</td>\n",
       "      <td>1571.0</td>\n",
       "      <td>NaN</td>\n",
       "      <td>NaN</td>\n",
       "      <td>16</td>\n",
       "      <td>ASM</td>\n",
       "      <td>2823.457522</td>\n",
       "      <td>NaN</td>\n",
       "    </tr>\n",
       "    <tr>\n",
       "      <th>3</th>\n",
       "      <td>Arizona</td>\n",
       "      <td>US</td>\n",
       "      <td>2020-09-28 04:30:36</td>\n",
       "      <td>33.7298</td>\n",
       "      <td>-111.4312</td>\n",
       "      <td>217237</td>\n",
       "      <td>5623</td>\n",
       "      <td>34872.0</td>\n",
       "      <td>176742.0</td>\n",
       "      <td>4.0</td>\n",
       "      <td>2984.550711</td>\n",
       "      <td>1443323.0</td>\n",
       "      <td>NaN</td>\n",
       "      <td>2.588417</td>\n",
       "      <td>84000004</td>\n",
       "      <td>USA</td>\n",
       "      <td>19829.360037</td>\n",
       "      <td>NaN</td>\n",
       "    </tr>\n",
       "    <tr>\n",
       "      <th>4</th>\n",
       "      <td>Arkansas</td>\n",
       "      <td>US</td>\n",
       "      <td>2020-09-28 04:30:36</td>\n",
       "      <td>34.9697</td>\n",
       "      <td>-92.3731</td>\n",
       "      <td>81242</td>\n",
       "      <td>1308</td>\n",
       "      <td>72602.0</td>\n",
       "      <td>7332.0</td>\n",
       "      <td>5.0</td>\n",
       "      <td>2692.090010</td>\n",
       "      <td>940627.0</td>\n",
       "      <td>NaN</td>\n",
       "      <td>1.610005</td>\n",
       "      <td>84000005</td>\n",
       "      <td>USA</td>\n",
       "      <td>31169.254199</td>\n",
       "      <td>NaN</td>\n",
       "    </tr>\n",
       "  </tbody>\n",
       "</table>\n",
       "</div>"
      ],
      "text/plain": [
       "   Province_State Country_Region          Last_Update      Lat     Long_  \\\n",
       "0         Alabama             US  2020-09-28 04:30:36  32.3182  -86.9023   \n",
       "1          Alaska             US  2020-09-28 04:30:36  61.3707 -152.4044   \n",
       "2  American Samoa             US  2020-09-28 04:30:36 -14.2710 -170.1320   \n",
       "3         Arizona             US  2020-09-28 04:30:36  33.7298 -111.4312   \n",
       "4        Arkansas             US  2020-09-28 04:30:36  34.9697  -92.3731   \n",
       "\n",
       "   Confirmed  Deaths  Recovered    Active  FIPS  Incident_Rate  People_Tested  \\\n",
       "0     152321    2501    64583.0   85237.0   1.0    3106.572565      1111239.0   \n",
       "1       7481      56     3502.0    3923.0   2.0    1022.630187       442869.0   \n",
       "2          0       0        NaN       0.0  60.0       0.000000         1571.0   \n",
       "3     217237    5623    34872.0  176742.0   4.0    2984.550711      1443323.0   \n",
       "4      81242    1308    72602.0    7332.0   5.0    2692.090010       940627.0   \n",
       "\n",
       "   People_Hospitalized  Mortality_Rate       UID ISO3  Testing_Rate  \\\n",
       "0                  NaN        1.641927  84000001  USA  22663.615589   \n",
       "1                  NaN        0.748563  84000002  USA  60538.859537   \n",
       "2                  NaN             NaN        16  ASM   2823.457522   \n",
       "3                  NaN        2.588417  84000004  USA  19829.360037   \n",
       "4                  NaN        1.610005  84000005  USA  31169.254199   \n",
       "\n",
       "   Hospitalization_Rate  \n",
       "0                   NaN  \n",
       "1                   NaN  \n",
       "2                   NaN  \n",
       "3                   NaN  \n",
       "4                   NaN  "
      ]
     },
     "execution_count": 7,
     "metadata": {},
     "output_type": "execute_result"
    }
   ],
   "source": [
    "usMedicalData.head()\n",
    "# US specific data (statewise)"
   ]
  },
  {
   "cell_type": "code",
   "execution_count": 8,
   "metadata": {},
   "outputs": [
    {
     "data": {
      "text/html": [
       "<div>\n",
       "<style scoped>\n",
       "    .dataframe tbody tr th:only-of-type {\n",
       "        vertical-align: middle;\n",
       "    }\n",
       "\n",
       "    .dataframe tbody tr th {\n",
       "        vertical-align: top;\n",
       "    }\n",
       "\n",
       "    .dataframe thead th {\n",
       "        text-align: right;\n",
       "    }\n",
       "</style>\n",
       "<table border=\"1\" class=\"dataframe\">\n",
       "  <thead>\n",
       "    <tr style=\"text-align: right;\">\n",
       "      <th></th>\n",
       "      <th>geo_type</th>\n",
       "      <th>region</th>\n",
       "      <th>transportation_type</th>\n",
       "      <th>alternative_name</th>\n",
       "      <th>sub-region</th>\n",
       "      <th>country</th>\n",
       "      <th>2020-01-13</th>\n",
       "      <th>2020-01-14</th>\n",
       "      <th>2020-01-15</th>\n",
       "      <th>2020-01-16</th>\n",
       "      <th>...</th>\n",
       "      <th>2020-09-17</th>\n",
       "      <th>2020-09-18</th>\n",
       "      <th>2020-09-19</th>\n",
       "      <th>2020-09-20</th>\n",
       "      <th>2020-09-21</th>\n",
       "      <th>2020-09-22</th>\n",
       "      <th>2020-09-23</th>\n",
       "      <th>2020-09-24</th>\n",
       "      <th>2020-09-25</th>\n",
       "      <th>2020-09-26</th>\n",
       "    </tr>\n",
       "  </thead>\n",
       "  <tbody>\n",
       "    <tr>\n",
       "      <th>0</th>\n",
       "      <td>country/region</td>\n",
       "      <td>Albania</td>\n",
       "      <td>driving</td>\n",
       "      <td>NaN</td>\n",
       "      <td>NaN</td>\n",
       "      <td>NaN</td>\n",
       "      <td>100.0</td>\n",
       "      <td>95.30</td>\n",
       "      <td>101.43</td>\n",
       "      <td>97.20</td>\n",
       "      <td>...</td>\n",
       "      <td>140.86</td>\n",
       "      <td>151.82</td>\n",
       "      <td>164.99</td>\n",
       "      <td>160.00</td>\n",
       "      <td>126.60</td>\n",
       "      <td>128.29</td>\n",
       "      <td>122.76</td>\n",
       "      <td>118.41</td>\n",
       "      <td>122.77</td>\n",
       "      <td>117.15</td>\n",
       "    </tr>\n",
       "    <tr>\n",
       "      <th>1</th>\n",
       "      <td>country/region</td>\n",
       "      <td>Albania</td>\n",
       "      <td>walking</td>\n",
       "      <td>NaN</td>\n",
       "      <td>NaN</td>\n",
       "      <td>NaN</td>\n",
       "      <td>100.0</td>\n",
       "      <td>100.68</td>\n",
       "      <td>98.93</td>\n",
       "      <td>98.46</td>\n",
       "      <td>...</td>\n",
       "      <td>161.07</td>\n",
       "      <td>165.59</td>\n",
       "      <td>157.44</td>\n",
       "      <td>141.41</td>\n",
       "      <td>158.68</td>\n",
       "      <td>149.81</td>\n",
       "      <td>146.82</td>\n",
       "      <td>138.76</td>\n",
       "      <td>148.06</td>\n",
       "      <td>124.99</td>\n",
       "    </tr>\n",
       "    <tr>\n",
       "      <th>2</th>\n",
       "      <td>country/region</td>\n",
       "      <td>Argentina</td>\n",
       "      <td>driving</td>\n",
       "      <td>NaN</td>\n",
       "      <td>NaN</td>\n",
       "      <td>NaN</td>\n",
       "      <td>100.0</td>\n",
       "      <td>97.07</td>\n",
       "      <td>102.45</td>\n",
       "      <td>111.21</td>\n",
       "      <td>...</td>\n",
       "      <td>66.01</td>\n",
       "      <td>76.20</td>\n",
       "      <td>75.11</td>\n",
       "      <td>46.99</td>\n",
       "      <td>59.23</td>\n",
       "      <td>60.17</td>\n",
       "      <td>62.01</td>\n",
       "      <td>62.72</td>\n",
       "      <td>68.81</td>\n",
       "      <td>64.62</td>\n",
       "    </tr>\n",
       "    <tr>\n",
       "      <th>3</th>\n",
       "      <td>country/region</td>\n",
       "      <td>Argentina</td>\n",
       "      <td>walking</td>\n",
       "      <td>NaN</td>\n",
       "      <td>NaN</td>\n",
       "      <td>NaN</td>\n",
       "      <td>100.0</td>\n",
       "      <td>95.11</td>\n",
       "      <td>101.37</td>\n",
       "      <td>112.67</td>\n",
       "      <td>...</td>\n",
       "      <td>56.07</td>\n",
       "      <td>62.88</td>\n",
       "      <td>58.01</td>\n",
       "      <td>41.11</td>\n",
       "      <td>50.83</td>\n",
       "      <td>50.00</td>\n",
       "      <td>53.50</td>\n",
       "      <td>53.18</td>\n",
       "      <td>51.42</td>\n",
       "      <td>44.79</td>\n",
       "    </tr>\n",
       "    <tr>\n",
       "      <th>4</th>\n",
       "      <td>country/region</td>\n",
       "      <td>Australia</td>\n",
       "      <td>driving</td>\n",
       "      <td>AU</td>\n",
       "      <td>NaN</td>\n",
       "      <td>NaN</td>\n",
       "      <td>100.0</td>\n",
       "      <td>102.98</td>\n",
       "      <td>104.21</td>\n",
       "      <td>108.63</td>\n",
       "      <td>...</td>\n",
       "      <td>101.92</td>\n",
       "      <td>102.84</td>\n",
       "      <td>82.47</td>\n",
       "      <td>89.67</td>\n",
       "      <td>91.87</td>\n",
       "      <td>93.99</td>\n",
       "      <td>95.72</td>\n",
       "      <td>102.71</td>\n",
       "      <td>102.03</td>\n",
       "      <td>87.47</td>\n",
       "    </tr>\n",
       "  </tbody>\n",
       "</table>\n",
       "<p>5 rows × 264 columns</p>\n",
       "</div>"
      ],
      "text/plain": [
       "         geo_type     region transportation_type alternative_name sub-region  \\\n",
       "0  country/region    Albania             driving              NaN        NaN   \n",
       "1  country/region    Albania             walking              NaN        NaN   \n",
       "2  country/region  Argentina             driving              NaN        NaN   \n",
       "3  country/region  Argentina             walking              NaN        NaN   \n",
       "4  country/region  Australia             driving               AU        NaN   \n",
       "\n",
       "  country  2020-01-13  2020-01-14  2020-01-15  2020-01-16  ...  2020-09-17  \\\n",
       "0     NaN       100.0       95.30      101.43       97.20  ...      140.86   \n",
       "1     NaN       100.0      100.68       98.93       98.46  ...      161.07   \n",
       "2     NaN       100.0       97.07      102.45      111.21  ...       66.01   \n",
       "3     NaN       100.0       95.11      101.37      112.67  ...       56.07   \n",
       "4     NaN       100.0      102.98      104.21      108.63  ...      101.92   \n",
       "\n",
       "   2020-09-18  2020-09-19  2020-09-20  2020-09-21  2020-09-22  2020-09-23  \\\n",
       "0      151.82      164.99      160.00      126.60      128.29      122.76   \n",
       "1      165.59      157.44      141.41      158.68      149.81      146.82   \n",
       "2       76.20       75.11       46.99       59.23       60.17       62.01   \n",
       "3       62.88       58.01       41.11       50.83       50.00       53.50   \n",
       "4      102.84       82.47       89.67       91.87       93.99       95.72   \n",
       "\n",
       "   2020-09-24  2020-09-25  2020-09-26  \n",
       "0      118.41      122.77      117.15  \n",
       "1      138.76      148.06      124.99  \n",
       "2       62.72       68.81       64.62  \n",
       "3       53.18       51.42       44.79  \n",
       "4      102.71      102.03       87.47  \n",
       "\n",
       "[5 rows x 264 columns]"
      ]
     },
     "execution_count": 8,
     "metadata": {},
     "output_type": "execute_result"
    }
   ],
   "source": [
    "appleMobility.head()"
   ]
  },
  {
   "cell_type": "markdown",
   "metadata": {},
   "source": [
    "Now that data is obtained <br>\n",
    "lets look at all the dates of the outbreak."
   ]
  },
  {
   "cell_type": "code",
   "execution_count": 9,
   "metadata": {},
   "outputs": [],
   "source": [
    "columns = confirmedDf.keys()"
   ]
  },
  {
   "cell_type": "code",
   "execution_count": 10,
   "metadata": {},
   "outputs": [],
   "source": [
    "# slicing/breaking the dataframe to extract information about dates, number of cases (and others)\n",
    "# dates and info - \n",
    "confirm = confirmedDf.loc[:,columns[4]:columns[-1]]\n",
    "death = deathsDf.loc[:,columns[4]:columns[-1]]\n",
    "recover = recoveriesDf.loc[:,columns[4]:columns[-1]]"
   ]
  },
  {
   "cell_type": "code",
   "execution_count": 11,
   "metadata": {},
   "outputs": [],
   "source": [
    "# all the dates\n",
    "allDates = confirm.keys() "
   ]
  },
  {
   "cell_type": "code",
   "execution_count": 12,
   "metadata": {},
   "outputs": [],
   "source": [
    "# lists to store data according to dates\n",
    "casesWorldwide = []\n",
    "deathsTotal = []\n",
    "totalRecoveries = []\n",
    "totalActive = []\n",
    "mortalityRate = []\n",
    "recoveryRate = []\n",
    "\n",
    "# date wise data stored into the lists\n",
    "for date in allDates:\n",
    "    confirmedSum = confirm[date].sum() # total number of cases on that day\n",
    "    deathSum = death[date].sum() # total number of deaths on that day\n",
    "    recoveredSum = recover[date].sum() # total recoveries on that day\n",
    "    \n",
    "    # number of cases worldwide in order of dates - \n",
    "    casesWorldwide.append(confirmedSum)\n",
    "    deathsTotal.append(deathSum)\n",
    "    totalRecoveries.append(recoveredSum)\n",
    "    totalActive.append(confirmedSum-recoveredSum-deathSum)\n",
    "    \n",
    "    # calculating rates (moratlity and recovery)\n",
    "    mortalityRate.append(deathSum/confirmedSum)\n",
    "    recoveryRate.append(recoveredSum/confirmedSum)"
   ]
  },
  {
   "cell_type": "markdown",
   "metadata": {},
   "source": [
    "Making functions for daily increases in cases and for moving averages (by week)"
   ]
  },
  {
   "cell_type": "code",
   "execution_count": 13,
   "metadata": {},
   "outputs": [],
   "source": [
    "def dailyChange(data):\n",
    "    # data can be any list as required, such as casesWorldwide, deathsTotal, totalRecoveries, totalActive\n",
    "    # the use of this function is simply to obeserve daily change in data\n",
    "    difference = []\n",
    "    for day in range(len(data)):\n",
    "        if day == 0:\n",
    "            # it is the first day of all observed data\n",
    "            difference.append(data[0])\n",
    "        else:\n",
    "            # take difference of numbers from this day and the previous day\n",
    "            difference.append(data[day]-data[day-1])\n",
    "    return difference"
   ]
  },
  {
   "cell_type": "code",
   "execution_count": 14,
   "metadata": {},
   "outputs": [],
   "source": [
    "def movingAverage(data, windowSize):\n",
    "    # data can be any list as required, such as casesWorldwide, deathsTotal, totalRecoveries, totalActive\n",
    "    # window size refers to the number of days considered to take the average. since it is a moving average, these days can vary (but mostly we will focus on weekly averages)\n",
    "    # the use of this function is to calculate the moving averages of the data\n",
    "    movingAverage = []\n",
    "    for i in range(len(data)):\n",
    "        if i + windowSize < len(data):\n",
    "            movingAverage.append(np.mean(data[i:i+windowSize]))\n",
    "        else:\n",
    "            movingAverage.append(np.mean(data[i:len(data)]))\n",
    "    return movingAverage"
   ]
  },
  {
   "cell_type": "code",
   "execution_count": 15,
   "metadata": {},
   "outputs": [
    {
     "name": "stdout",
     "output_type": "stream",
     "text": [
      "Enter number of days for moving average (window size, default value = 7):\n",
      "\n"
     ]
    }
   ],
   "source": [
    "window = input(\"Enter number of days for moving average (window size, default value = 7):\\n\")\n",
    "try:\n",
    "    window = int(window)\n",
    "except ValueError:\n",
    "    window = 7"
   ]
  },
  {
   "cell_type": "code",
   "execution_count": 16,
   "metadata": {},
   "outputs": [],
   "source": [
    "# calculations on confirmed cases \n",
    "confirmedDailyChange = dailyChange(casesWorldwide)\n",
    "confirmedAvg = movingAverage(casesWorldwide, window)\n",
    "dailyChangeInAvg = movingAverage(confirmedDailyChange,window)\n",
    "\n",
    "# calculations on deaths \n",
    "confirmedDailyDeaths = dailyChange(deathsTotal)\n",
    "deathsAvg = movingAverage(deathsTotal, window)\n",
    "dailyDeathsAvg = movingAverage(confirmedDailyDeaths,window)\n",
    "\n",
    "# calculations on recoveries \n",
    "confirmedDailyRecovery = dailyChange(totalRecoveries)\n",
    "recoveriesAvg = movingAverage(totalRecoveries, window)\n",
    "dailyRecoveriesAvg = movingAverage(confirmedDailyRecovery,window)\n",
    "\n",
    "# calculations on active cases\n",
    "activeAvg = movingAverage(totalActive, window)"
   ]
  },
  {
   "cell_type": "code",
   "execution_count": 17,
   "metadata": {},
   "outputs": [],
   "source": [
    "# days since day one, here, first day is Jan 22\n",
    "daysSinceJan22 = np.array([i for i in range(len(allDates))])\n",
    "\n",
    "# rearranging data into a single column\n",
    "daysSinceJan22 = daysSinceJan22.reshape(-1,1)\n",
    "\n",
    "# also rearranging other lists into 1 column and converting them into numpy arrays\n",
    "casesWorldwide = np.array(casesWorldwide).reshape(-1,1)\n",
    "deathsTotal = np.array(deathsTotal).reshape(-1,1)\n",
    "totalRecoveries = np.array(totalRecoveries).reshape(-1,1)"
   ]
  },
  {
   "cell_type": "markdown",
   "metadata": {},
   "source": [
    "Future dates adjustments"
   ]
  },
  {
   "cell_type": "code",
   "execution_count": 18,
   "metadata": {},
   "outputs": [
    {
     "name": "stdout",
     "output_type": "stream",
     "text": [
      "Enter number of days you want to predict for / number of days in future (default value 10):\n",
      "\n"
     ]
    }
   ],
   "source": [
    "daysInFuture = input(\"Enter number of days you want to predict for / number of days in future (default value 10):\\n\")\n",
    "try:\n",
    "    daysInFuture = int(daysInFuture)\n",
    "except ValueError:\n",
    "    daysInFuture = 10"
   ]
  },
  {
   "cell_type": "code",
   "execution_count": 19,
   "metadata": {},
   "outputs": [],
   "source": [
    "futureForecast = np.array([i for i in range(len(allDates)+daysInFuture)]).reshape(-1,1)\n",
    "adjustedDates = futureForecast[:-10]"
   ]
  },
  {
   "cell_type": "markdown",
   "metadata": {},
   "source": [
    "Dates conversion for better visualisation on graphs"
   ]
  },
  {
   "cell_type": "code",
   "execution_count": 20,
   "metadata": {},
   "outputs": [],
   "source": [
    "start = '1/22/2020'\n",
    "startDate = datetime.datetime.strptime(start, '%m/%d/%Y')\n",
    "futureForecastDates = []\n",
    "for i in range(len(futureForecast)):\n",
    "    futureForecastDates.append((startDate + datetime.timedelta(days = i)).strftime('%m/%d/%Y'))"
   ]
  },
  {
   "cell_type": "markdown",
   "metadata": {},
   "source": [
    "#### Now data is processed as needed.\n",
    "## Time to split the data into training and testing sets"
   ]
  },
  {
   "cell_type": "code",
   "execution_count": 21,
   "metadata": {},
   "outputs": [],
   "source": [
    "xTrainConfirmed, xTestConfirmed, yTrainConfirmed, yTestConfirmed = train_test_split(daysSinceJan22[50:], casesWorldwide[50:], test_size=0.05, shuffle=False)"
   ]
  },
  {
   "cell_type": "markdown",
   "metadata": {},
   "source": [
    "Trying out different algorithms for prediction. I am trying out Support Vector Machine (SVM) [I have used Support Vector Regression since the data is continuous in nature], Linear Regression, and Bayesian Ridge.<br>The outcomes will be seen in the later sections."
   ]
  },
  {
   "cell_type": "markdown",
   "metadata": {},
   "source": [
    "# SVR\n",
    "#### State Vector Regression"
   ]
  },
  {
   "cell_type": "code",
   "execution_count": 22,
   "metadata": {},
   "outputs": [
    {
     "data": {
      "text/plain": [
       "SVR(C=0.1, epsilon=1, gamma=0.01, kernel='poly')"
      ]
     },
     "execution_count": 22,
     "metadata": {},
     "output_type": "execute_result"
    }
   ],
   "source": [
    "svmConfirmed = SVR(kernel='poly', shrinking=True, gamma = 0.01, epsilon=1, degree=3, C=0.1)\n",
    "svmConfirmed.fit(xTrainConfirmed, yTrainConfirmed.ravel()) # Training the model on training data | ravel is used to change the shape of data to (n, ) from (n,1)"
   ]
  },
  {
   "cell_type": "code",
   "execution_count": 23,
   "metadata": {},
   "outputs": [],
   "source": [
    "svmFuturePredict = svmConfirmed.predict(futureForecast) # prediction for the unkown future data to test accuracy\n",
    "svmTestPredict = svmConfirmed.predict(xTestConfirmed) # prediction for the test data from tain-test-split"
   ]
  },
  {
   "cell_type": "code",
   "execution_count": 43,
   "metadata": {},
   "outputs": [
    {
     "data": {
      "text/plain": [
       "<matplotlib.legend.Legend at 0x236cc3fabe0>"
      ]
     },
     "execution_count": 43,
     "metadata": {},
     "output_type": "execute_result"
    },
    {
     "data": {
      "image/png": "[encoded data removed]",
      "text/plain": [
       "<Figure size 864x540 with 1 Axes>"
      ]
     },
     "metadata": {},
     "output_type": "display_data"
    }
   ],
   "source": [
    "plt.figure(figsize=(12,7.5))\n",
    "plt.plot(svmTestPredict, 'r', lw=2.5)\n",
    "plt.plot(yTestConfirmed, 'b', lw=2.5)\n",
    "plt.title(\"SVM Predictions vs Actual data\")\n",
    "plt.legend(['Predictions from SVM', 'Actual test data'])"
   ]
  },
  {
   "cell_type": "markdown",
   "metadata": {},
   "source": [
    "Clearly in the graph for SVM, it is visible that the model is overestimating the predictions."
   ]
  },
  {
   "cell_type": "code",
   "execution_count": 25,
   "metadata": {},
   "outputs": [
    {
     "name": "stdout",
     "output_type": "stream",
     "text": [
      "Mean Absolute Error:  2976475.4344693003\n",
      "Mean Squared  Error:  9014904448229.477\n"
     ]
    }
   ],
   "source": [
    "print(\"Mean Absolute Error: \", mean_absolute_error(svmTestPredict, yTestConfirmed))\n",
    "print(\"Mean Squared  Error: \", mean_squared_error(svmTestPredict, yTestConfirmed))"
   ]
  },
  {
   "cell_type": "markdown",
   "metadata": {},
   "source": [
    "Trying _**Polynomial Regression**_ next.\n",
    "# Polynomial Regression"
   ]
  },
  {
   "cell_type": "code",
   "execution_count": 26,
   "metadata": {},
   "outputs": [],
   "source": [
    "# data fit and transformed for Polynomial Regression\n",
    "poly = PolynomialFeatures(degree=5)\n",
    "polyXTrainConfirmed = poly.fit_transform(xTrainConfirmed)\n",
    "polyXTestConfirmed = poly.fit_transform(xTestConfirmed)\n",
    "polyFutureForecast = poly.fit_transform(futureForecast)"
   ]
  },
  {
   "cell_type": "code",
   "execution_count": 27,
   "metadata": {},
   "outputs": [],
   "source": [
    "linearModel = LinearRegression(normalize=True, fit_intercept=False)\n",
    "linearModel.fit(polyXTrainConfirmed, yTrainConfirmed)\n",
    "polyFuturePredict = linearModel.predict(polyFutureForecast)\n",
    "polyTestPredict = linearModel.predict(polyXTestConfirmed)"
   ]
  },
  {
   "cell_type": "code",
   "execution_count": 28,
   "metadata": {},
   "outputs": [
    {
     "name": "stdout",
     "output_type": "stream",
     "text": [
      "[[ 1.53048537e+06 -1.81655497e+05  4.74253636e+03 -4.48653052e+01\n",
      "   2.07240568e-01 -3.37052858e-04]]\n"
     ]
    }
   ],
   "source": [
    "print(linearModel.coef_)"
   ]
  },
  {
   "cell_type": "code",
   "execution_count": 44,
   "metadata": {},
   "outputs": [
    {
     "data": {
      "text/plain": [
       "<matplotlib.legend.Legend at 0x236c8e54a90>"
      ]
     },
     "execution_count": 44,
     "metadata": {},
     "output_type": "execute_result"
    },
    {
     "data": {
      "image/png": "[encoded data removed]",
      "text/plain": [
       "<Figure size 864x540 with 1 Axes>"
      ]
     },
     "metadata": {},
     "output_type": "display_data"
    }
   ],
   "source": [
    "plt.figure(figsize=(12,7.5))\n",
    "plt.plot(polyTestPredict, 'r', lw=2.5)\n",
    "plt.plot(yTestConfirmed, 'b', lw=2.5)\n",
    "plt.title(\"Polynomial Regression Predictions vs Actual data\")\n",
    "plt.legend(['Predictions from Polynomial Regression', 'Actual test data'])"
   ]
  },
  {
   "cell_type": "markdown",
   "metadata": {},
   "source": [
    "Clearly in the graph for polynomial regression, it is visible that the model is underestimating the predictions."
   ]
  },
  {
   "cell_type": "code",
   "execution_count": 30,
   "metadata": {},
   "outputs": [
    {
     "name": "stdout",
     "output_type": "stream",
     "text": [
      "Mean Absolute Error:  1002386.240217599\n",
      "Mean Squared  Error:  1143199579370.2292\n"
     ]
    }
   ],
   "source": [
    "print(\"Mean Absolute Error: \", mean_absolute_error(polyTestPredict, yTestConfirmed))\n",
    "print(\"Mean Squared  Error: \", mean_squared_error(polyTestPredict, yTestConfirmed))"
   ]
  },
  {
   "cell_type": "markdown",
   "metadata": {},
   "source": [
    "Trying _**Bayesian Ridge Polynomial Regression**_ next.\n",
    "# Bayesian Ridge Polynomial Regression"
   ]
  },
  {
   "cell_type": "code",
   "execution_count": 32,
   "metadata": {},
   "outputs": [],
   "source": [
    "# data fit and transformed for Bayesian Ridge\n",
    "bayesianPoly = PolynomialFeatures(degree=5)\n",
    "bayesianPolyXTrainConfirmed = bayesianPoly.fit_transform(xTrainConfirmed)\n",
    "bayesianPolyXTestConfirmed = bayesianPoly.fit_transform(xTestConfirmed)\n",
    "bayesianPolyFutureForecast = bayesianPoly.fit_transform(futureForecast)"
   ]
  },
  {
   "cell_type": "code",
   "execution_count": 37,
   "metadata": {},
   "outputs": [
    {
     "name": "stdout",
     "output_type": "stream",
     "text": [
      "Fitting 3 folds for each of 40 candidates, totalling 120 fits\n"
     ]
    },
    {
     "name": "stderr",
     "output_type": "stream",
     "text": [
      "[Parallel(n_jobs=-1)]: Using backend LokyBackend with 12 concurrent workers.\n",
      "[Parallel(n_jobs=-1)]: Done  26 tasks      | elapsed:    2.0s\n",
      "[Parallel(n_jobs=-1)]: Done 120 out of 120 | elapsed:    2.1s finished\n",
      "C:\\Users\\Siddhant\\Anaconda\\lib\\site-packages\\sklearn\\utils\\validation.py:73: DataConversionWarning: A column-vector y was passed when a 1d array was expected. Please change the shape of y to (n_samples, ), for example using ravel().\n",
      "  return f(**kwargs)\n"
     ]
    },
    {
     "data": {
      "text/plain": [
       "RandomizedSearchCV(cv=3, estimator=BayesianRidge(fit_intercept=False),\n",
       "                   n_iter=40, n_jobs=-1,\n",
       "                   param_distributions={'alpha_1': [1e-07, 1e-06, 1e-05, 0.0001,\n",
       "                                                    0.001],\n",
       "                                        'alpha_2': [1e-07, 1e-06, 1e-05, 0.0001,\n",
       "                                                    0.001],\n",
       "                                        'lambda_1': [1e-07, 1e-06, 1e-05,\n",
       "                                                     0.0001, 0.001],\n",
       "                                        'lambda_2': [1e-07, 1e-06, 1e-05,\n",
       "                                                     0.0001, 0.001],\n",
       "                                        'normalize': [True, False],\n",
       "                                        'tol': [1e-06, 1e-05, 0.0001, 0.001,\n",
       "                                                0.01]},\n",
       "                   return_train_score=True, scoring='neg_mean_squared_error',\n",
       "                   verbose=1)"
      ]
     },
     "execution_count": 37,
     "metadata": {},
     "output_type": "execute_result"
    }
   ],
   "source": [
    "# bayesian ridge polynomial regression\n",
    "tol = [1e-6, 1e-5, 1e-4, 1e-3, 1e-2]\n",
    "alpha1 = [1e-7, 1e-6, 1e-5, 1e-4, 1e-3]\n",
    "alpha2 = [1e-7, 1e-6, 1e-5, 1e-4, 1e-3]\n",
    "lambda1 = [1e-7, 1e-6, 1e-5, 1e-4, 1e-3]\n",
    "lambda2 = [1e-7, 1e-6, 1e-5, 1e-4, 1e-3]\n",
    "normalize = [True, False]\n",
    "\n",
    "bayesianGrid = {'tol': tol, 'alpha_1': alpha1, 'alpha_2' : alpha2, 'lambda_1': lambda1, 'lambda_2' : lambda2, \n",
    "                 'normalize' : normalize}\n",
    "\n",
    "bayesian = BayesianRidge(fit_intercept=False)\n",
    "bayesianSearch = RandomizedSearchCV(bayesian, bayesianGrid, scoring='neg_mean_squared_error', cv=3, return_train_score=True, n_jobs=-1, n_iter=40, verbose=1)\n",
    "bayesianSearch.fit(bayesianPolyXTrainConfirmed, yTrainConfirmed)"
   ]
  },
  {
   "cell_type": "code",
   "execution_count": 38,
   "metadata": {},
   "outputs": [
    {
     "data": {
      "text/plain": [
       "{'tol': 0.001,\n",
       " 'normalize': False,\n",
       " 'lambda_2': 1e-06,\n",
       " 'lambda_1': 0.001,\n",
       " 'alpha_2': 0.001,\n",
       " 'alpha_1': 1e-07}"
      ]
     },
     "execution_count": 38,
     "metadata": {},
     "output_type": "execute_result"
    }
   ],
   "source": [
    "bayesianSearch.best_params_"
   ]
  },
  {
   "cell_type": "code",
   "execution_count": 39,
   "metadata": {},
   "outputs": [],
   "source": [
    "bayesianConfirmed = bayesianSearch.best_estimator_\n",
    "bayesianTestPredict = bayesianConfirmed.predict(bayesianPolyXTestConfirmed)\n",
    "bayesianFuturePredict = bayesianConfirmed.predict(bayesianPolyFutureForecast)"
   ]
  },
  {
   "cell_type": "code",
   "execution_count": 46,
   "metadata": {},
   "outputs": [
    {
     "data": {
      "text/plain": [
       "<matplotlib.legend.Legend at 0x236cc2073a0>"
      ]
     },
     "execution_count": 46,
     "metadata": {},
     "output_type": "execute_result"
    },
    {
     "data": {
      "image/png": "[encoded data removed]",
      "text/plain": [
       "<Figure size 864x540 with 1 Axes>"
      ]
     },
     "metadata": {},
     "output_type": "display_data"
    }
   ],
   "source": [
    "plt.figure(figsize=(12,7.5))\n",
    "plt.plot(bayesianTestPredict, 'r', lw=2.5)\n",
    "plt.plot(yTestConfirmed, 'b', lw=2.5)\n",
    "plt.title(\"Bayesian Ridge Predictions vs Actual data\")\n",
    "plt.legend(['Predictions from Bayesian Ridge Regression', 'Actual test data'])"
   ]
  },
  {
   "cell_type": "markdown",
   "metadata": {},
   "source": [
    "Clearly in the graph for bayesian ridge polynomial regression, it is visible that the model is overestimating the predictions. However, the prediction is more accurate when compared to SVM and also, Polynomial Regression. ie. Error is lowered in Bayesian Ridge predictions."
   ]
  },
  {
   "cell_type": "code",
   "execution_count": 41,
   "metadata": {},
   "outputs": [
    {
     "name": "stdout",
     "output_type": "stream",
     "text": [
      "Mean Absolute Error:  394403.4146701101\n",
      "Mean Squared  Error:  161315266098.47107\n"
     ]
    }
   ],
   "source": [
    "print(\"Mean Absolute Error: \", mean_absolute_error(bayesianTestPredict, yTestConfirmed))\n",
    "print(\"Mean Squared  Error: \", mean_squared_error(bayesianTestPredict, yTestConfirmed))"
   ]
  }
 ],
 "metadata": {
  "kernelspec": {
   "display_name": "Python 3",
   "language": "python",
   "name": "python3"
  },
  "language_info": {
   "codemirror_mode": {
    "name": "ipython",
    "version": 3
   },
   "file_extension": ".py",
   "mimetype": "text/x-python",
   "name": "python",
   "nbconvert_exporter": "python",
   "pygments_lexer": "ipython3",
   "version": "3.8.3"
  }
 },
 "nbformat": 4,
 "nbformat_minor": 4
}
